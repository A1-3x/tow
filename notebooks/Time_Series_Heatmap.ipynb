{
  "cells": [
    {
      "cell_type": "code",
      "execution_count": null,
      "metadata": {
        "id": "oStpP3q1STWM"
      },
      "outputs": [],
      "source": [
        "!apt-get install libgeos-3.5.0\n",
        "!apt-get install libgeos-dev\n",
        "!pip install https://github.com/matplotlib/basemap/archive/master.zip\n",
        "!pip install folium -U\n",
        "!pip install branca"
      ]
    },
    {
      "cell_type": "code",
      "execution_count": null,
      "metadata": {
        "id": "HSZV19WYV1aQ"
      },
      "outputs": [],
      "source": [
        "from folium.plugins import HeatMapWithTime, MarkerCluster, Fullscreen\n",
        "import folium\n",
        "from folium.plugins import HeatMapWithTime\n",
        "import pandas as pd\n",
        "import sys\n"
      ]
    },
    {
      "cell_type": "code",
      "execution_count": null,
      "metadata": {
        "id": "VokegdZrV7-r"
      },
      "outputs": [],
      "source": [
        "# Load and process data\n",
        "data = pd.read_csv('tows.csv')\n",
        "data['Tow Date'] = pd.to_datetime(data['Tow Date'], errors='coerce')  # Handle invalid dates\n",
        "data = data.dropna(subset=['Tow Date', 'lat', 'lon'])  # Remove rows with missing values"
      ]
    },
    {
      "cell_type": "markdown",
      "metadata": {
        "id": "hS0NbI2aG62g"
      },
      "source": [
        "# Deafult Map only TimeSeries"
      ]
    },
    {
      "cell_type": "code",
      "execution_count": null,
      "metadata": {
        "id": "GtMAq0HaEfus"
      },
      "outputs": [],
      "source": [
        "\n",
        "# Prepare data for HeatMapWithTime\n",
        "time_series = sorted(data['Tow Date'].dt.strftime('%Y-%m-%d').unique())\n",
        "heat_data = []\n",
        "\n",
        "for date in time_series:\n",
        "    daily_data = data[data['Tow Date'] == date]\n",
        "    heat_data.append([[row['lat'], row['lon']] for index, row in daily_data.iterrows()])\n",
        "\n",
        "# Check if heat_data is empty\n",
        "if not any(heat_data):\n",
        "    print(\"No valid data points found for heatmap.\")\n",
        "else:\n",
        "    # Create map centered on the data's mean latitude and longitude\n",
        "    map_center = [data['lat'].mean(), data['lon'].mean()]\n",
        "    m = folium.Map(location=map_center, zoom_start=10)\n",
        "\n",
        "    # Add HeatMapWithTime layer\n",
        "    HeatMapWithTime(heat_data, index=time_series, radius=10).add_to(m)\n",
        "\n",
        "    # Save to HTML\n",
        "    m.save(\"tow_heatmap_with_time_Friday.html\")\n",
        "    print(\"Heatmap with time saved to 'tow_heatmap_with_time.html'.\")\n"
      ]
    },
    {
      "cell_type": "markdown",
      "metadata": {
        "id": "q1hJis7_HBwc"
      },
      "source": [
        "# Minimalist Map"
      ]
    },
    {
      "cell_type": "code",
      "execution_count": null,
      "metadata": {
        "id": "9MW3tdj5TrbG"
      },
      "outputs": [],
      "source": [
        "\n",
        "# Prepare data for HeatMapWithTime\n",
        "time_series = sorted(data['Tow Date'].dt.strftime('%Y-%m-%d').unique())\n",
        "heat_data = []\n",
        "\n",
        "for date in time_series:\n",
        "    daily_data = data[data['Tow Date'] == date]\n",
        "    heat_data.append([[row['lat'], row['lon']] for index, row in daily_data.iterrows()])\n",
        "\n",
        "# Check if heat_data is empty\n",
        "if not any(heat_data):\n",
        "    print(\"No valid data points found for heatmap.\")\n",
        "else:\n",
        "    # Create map with a simpler, muted base style\n",
        "    map_center = [data['lat'].mean(), data['lon'].mean()]\n",
        "    m = folium.Map(location=map_center, zoom_start=10, tiles=\"CartoDB Positron\")\n",
        "\n",
        "    # Add HeatMapWithTime layer\n",
        "    HeatMapWithTime(heat_data, index=time_series, radius=10).add_to(m)\n",
        "\n",
        "    # Save to HTML\n",
        "    m.save(\"tow_heatmap_with_time_simple_Friday.html\")\n",
        "    print(\"Heatmap with time saved to 'tow_heatmap_with_time_simple.html'.\")\n"
      ]
    },
    {
      "cell_type": "markdown",
      "metadata": {
        "id": "cSJuPJ_3cyao"
      },
      "source": [
        "# Minimalist Map and Counts and Mark"
      ]
    },
    {
      "cell_type": "code",
      "execution_count": null,
      "metadata": {
        "id": "zWah-6QrI-sB"
      },
      "outputs": [],
      "source": [
        "\n",
        "# Load and process data\n",
        "data = pd.read_csv('tows.csv')\n",
        "\n",
        "# Convert Tow Date to datetime and filter out invalid dates\n",
        "data['Tow Date'] = pd.to_datetime(data['Tow Date'], errors='coerce')\n",
        "data = data.dropna(subset=['Tow Date'])  # Drop rows with invalid dates\n",
        "\n",
        "# Filter out rows with missing or invalid latitude/longitude values\n",
        "data = data.dropna(subset=['lat', 'lon'])\n",
        "data = data[(data['lat'] >= -90) & (data['lat'] <= 90) &\n",
        "            (data['lon'] >= -180) & (data['lon'] <= 180)]\n",
        "\n",
        "# Prepare data for HeatMapWithTime\n",
        "time_series = sorted(data['Tow Date'].dt.strftime('%Y-%m-%d').unique())\n",
        "heat_data = []\n",
        "\n",
        "for date in time_series:\n",
        "    daily_data = data[data['Tow Date'] == date]\n",
        "    lat_lon_pairs = [[row['lat'], row['lon']] for index, row in daily_data.iterrows()]\n",
        "    if lat_lon_pairs:  # Append only if there are valid points for this date\n",
        "        heat_data.append(lat_lon_pairs)\n",
        "\n",
        "# Check if heat_data is empty\n",
        "if not heat_data:\n",
        "    print(\"No valid data points found for heatmap.\")\n",
        "    sys.exit()\n",
        "\n",
        "# Create a custom map with a nicer style\n",
        "map_center = [data['lat'].mean(), data['lon'].mean()]\n",
        "m = folium.Map(\n",
        "    location=map_center,\n",
        "    zoom_start=10,\n",
        "    tiles=\"CartoDB Positron\"  # Clean, modern map style\n",
        ")\n",
        "\n",
        "# Customize HeatMapWithTime\n",
        "HeatMapWithTime(\n",
        "    heat_data,\n",
        "    index=time_series,\n",
        "    radius=15,  # Adjust radius for a smoother appearance\n",
        "    gradient={0.2: 'blue', 0.4: 'lime', 0.6: 'yellow', 1.0: 'red'},  # Custom gradient\n",
        "    auto_play=True,  # Automatically start the animation\n",
        "    max_opacity=0.8,  # Make points more visible\n",
        "    min_opacity=0.3  # Avoid very faint points\n",
        ").add_to(m)\n",
        "\n",
        "# Add a marker cluster for static points (optional)\n",
        "marker_cluster = MarkerCluster().add_to(m)\n",
        "for _, row in data.iterrows():\n",
        "    folium.Marker(\n",
        "        location=[row['lat'], row['lon']],\n",
        "        popup=f\"Tow Date: {row['Tow Date']}\\nLocation: {row['Location']}\",\n",
        "        icon=folium.Icon(color=\"blue\", icon=\"info-sign\")\n",
        "    ).add_to(marker_cluster)\n",
        "\n",
        "# Add a full-screen control for better usability\n",
        "Fullscreen(position='topright').add_to(m)\n",
        "\n",
        "# Save to HTML\n",
        "output_file = \"tow_heatmap_with_Counts_V3_Friday.html\"\n",
        "m.save(output_file)\n",
        "print(f\"Enhanced heatmap with time saved to '{output_file}'.\")\n"
      ]
    },
    {
      "cell_type": "code",
      "execution_count": null,
      "metadata": {
        "id": "EwRWMVe9SbPA"
      },
      "outputs": [],
      "source": [
        "!pip install openrouteservice\n",
        "import openrouteservice\n",
        "from openrouteservice import convert\n",
        "\n"
      ]
    },
    {
      "cell_type": "code",
      "execution_count": null,
      "metadata": {
        "id": "DE_x0oF2SZZR"
      },
      "outputs": [],
      "source": [
        "import openrouteservice\n",
        "from openrouteservice import convert\n",
        "\n",
        "client = openrouteservice.Client(key=\"YOUR_API_KEY\")\n",
        "\n",
        "coords = ((-74.0060, 40.7128), (-118.2437, 34.0522))  # New York City, Los Angeles\n",
        "\n",
        "route = client.directions(coords)\n",
        "\n",
        "distance = route['routes'][0]['summary']['distance'] / 1000  # Convert to km\n",
        "\n",
        "print(distance)\n"
      ]
    },
    {
      "cell_type": "code",
      "execution_count": null,
      "metadata": {
        "id": "u6xhLSwWSnK7"
      },
      "outputs": [],
      "source": [
        "import openrouteservice\n",
        "from openrouteservice import convert\n",
        "\n",
        "# **Replace 'YOUR_API_KEY' with your actual OpenRouteService API key**\n",
        "client = openrouteservice.Client(key=\"YOUR_ACTUAL_API_KEY\")\n",
        "\n",
        "coords = ((-74.0060, 40.7128), (-118.2437, 34.0522))\n",
        "\n",
        "route = client.directions(coords)\n",
        "\n",
        "distance = route['routes'][0]['summary']['distance'] / 1000\n",
        "\n",
        "print(distance)"
      ]
    }
  ],
  "metadata": {
    "colab": {
      "private_outputs": true,
      "provenance": []
    },
    "kernelspec": {
      "display_name": "Python 3",
      "name": "python3"
    },
    "language_info": {
      "name": "python",
      "version": "3.11.9"
    }
  },
  "nbformat": 4,
  "nbformat_minor": 0
}
