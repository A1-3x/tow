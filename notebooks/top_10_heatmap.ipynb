{
  "cells": [
    {
      "cell_type": "code",
      "execution_count": 1,
      "metadata": {
        "id": "GyoZSsXb5JhF"
      },
      "outputs": [],
      "source": [
        "import matplotlib.pyplot as plt\n",
        "import pandas as pd\n",
        "import numpy as np\n",
        "from scipy.spatial import Voronoi, voronoi_plot_2d\n",
        "from sklearn.preprocessing import StandardScaler\n",
        "import folium\n",
        "from folium.plugins import HeatMap\n",
        "import seaborn as sns\n"
      ]
    },
    {
      "cell_type": "code",
      "execution_count": 2,
      "metadata": {},
      "outputs": [],
      "source": [
        "import leafmap.foliumap as leafmap\n",
        "\n",
        "# Load your dataset\n",
        "df = pd.read_csv('tows.csv')\n",
        "\n",
        "# Drop rows with missing 'Trade Name', 'lat', or 'lon'\n",
        "df_clean = df.dropna(subset=['Trade Name', 'lat', 'lon'])\n",
        "\n",
        "# Identify the top 5 towing companies by count\n",
        "top_companies = df_clean['Trade Name'].value_counts().head(10).index\n",
        "\n",
        "# Filter the dataset for the top 5 companies\n",
        "df_top10 = df_clean[df_clean['Trade Name'].isin(top_companies)]\n",
        "\n",
        "# Create a base map centered around the area of interest\n",
        "map_center = [39.05, -77.10]  # Example coordinates for Montgomery County, MD\n",
        "m = leafmap.Map(location=map_center, zoom_start=11)\n",
        "\n",
        "# Define a color palette for the top 5 companies\n",
        "colors = sns.color_palette(\"hsv\", len(top_companies)).as_hex()\n",
        "\n",
        "# Add a heatmap layer for each company\n",
        "for company, color in zip(top_companies, colors):\n",
        "    company_data = df_top10[df_top10['Trade Name'] == company]\n",
        "    heat_data = company_data[['lat', 'lon']].values.tolist()\n",
        "    HeatMap(heat_data, radius=10, gradient={0.4: color}).add_to(folium.FeatureGroup(name=company).add_to(m))\n",
        "\n",
        "# Add layer control to toggle heatmaps\n",
        "folium.LayerControl().add_to(m)\n",
        "\n",
        "# Create a legend dictionary\n",
        "for company, color in zip(top_companies, colors):\n",
        "    legend_dict = {company: color for company, color in zip(top_companies, colors)}\n",
        "\n",
        "# Add the legend to the map\n",
        "m.add_legend(title='Towing Companies', legend_dict=legend_dict)\n",
        "\n",
        "# Save the map to an HTML file\n",
        "m.save('top10_towing_companies_heatmap.html')\n"
      ]
    }
  ],
  "metadata": {
    "colab": {
      "private_outputs": true,
      "provenance": []
    },
    "kernelspec": {
      "display_name": "Python 3",
      "name": "python3"
    },
    "language_info": {
      "codemirror_mode": {
        "name": "ipython",
        "version": 3
      },
      "file_extension": ".py",
      "mimetype": "text/x-python",
      "name": "python",
      "nbconvert_exporter": "python",
      "pygments_lexer": "ipython3",
      "version": "3.11.9"
    }
  },
  "nbformat": 4,
  "nbformat_minor": 0
}
