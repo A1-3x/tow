{
  "nbformat": 4,
  "nbformat_minor": 0,
  "metadata": {
    "colab": {
      "private_outputs": true,
      "provenance": []
    },
    "kernelspec": {
      "name": "python3",
      "display_name": "Python 3"
    },
    "language_info": {
      "name": "python"
    }
  },
  "cells": [
    {
      "cell_type": "code",
      "execution_count": null,
      "metadata": {
        "id": "Coy6sIkthKHW"
      },
      "outputs": [],
      "source": [
        "import pandas as pd\n",
        "import numpy as np\n",
        "import matplotlib.pyplot as plt"
      ]
    },
    {
      "cell_type": "code",
      "source": [
        "# Load the dataset\n",
        "file_path = 'top_10_samp.csv'\n",
        "data = pd.read_csv(file_path)"
      ],
      "metadata": {
        "id": "upmSoR8_hfDk"
      },
      "execution_count": null,
      "outputs": []
    },
    {
      "cell_type": "code",
      "source": [
        "\n",
        "# Define the haversine function\n",
        "def haversine(lat1, lon1, lat2, lon2):\n",
        "    lat1, lon1, lat2, lon2 = map(np.radians, [lat1, lon1, lat2, lon2])\n",
        "    dlat = lat2 - lat1\n",
        "    dlon = lon2 - lon1\n",
        "    a = np.sin(dlat / 2)**2 + np.cos(lat1) * np.cos(lat2) * np.sin(dlon / 2)**2\n",
        "    return 3958.8 * 2 * np.arctan2(np.sqrt(a), np.sqrt(1 - a))  # Distance in miles\n",
        "\n"
      ],
      "metadata": {
        "id": "xCevJon7hP3I"
      },
      "execution_count": null,
      "outputs": []
    },
    {
      "cell_type": "code",
      "source": [
        "# Apply the haversine function to calculate the distance in miles\n",
        "data['calculated_dist_miles'] = data.apply(\n",
        "    lambda row: haversine(row['lat'], row['lon'], row['lot_lat'], row['lot_lon']),\n",
        "    axis=1\n",
        ")\n",
        "\n",
        "# Convert `tow_dist` from meters to miles for comparison\n",
        "data['tow_dist_miles'] = data['tow_dist'] / 1609.34\n",
        "\n",
        "# Calculate the absolute and percentage differences (in miles)\n",
        "data['absolute_difference_miles'] = abs(data['calculated_dist_miles'] - data['tow_dist_miles'])\n",
        "data['percentage_difference_miles'] = (data['absolute_difference_miles'] / data['tow_dist_miles']) * 100\n",
        "\n",
        "# Select relevant columns for comparison\n",
        "comparison_df_miles = data[['tow_dist_miles', 'calculated_dist_miles', 'absolute_difference_miles', 'percentage_difference_miles']]\n",
        "\n",
        "# Display the comparison results in miles\n",
        "print(\"Comparison Results (Miles):\")\n",
        "print(comparison_df_miles)\n",
        "\n"
      ],
      "metadata": {
        "id": "2flFXjDdhdwv"
      },
      "execution_count": null,
      "outputs": []
    },
    {
      "cell_type": "code",
      "source": [
        "# Apply a reaction factor of 1.3 to the calculated Haversine distance (in miles)\n",
        "reaction_factor = 1.3\n",
        "data['adjusted_dist_miles'] = data['calculated_dist_miles'] * reaction_factor\n",
        "\n",
        "# Calculate the new absolute and percentage differences with the adjusted distance (in miles)\n",
        "data['adjusted_absolute_difference_miles'] = abs(data['adjusted_dist_miles'] - data['tow_dist_miles'])\n",
        "data['adjusted_percentage_difference_miles'] = (data['adjusted_absolute_difference_miles'] / data['tow_dist_miles']) * 100\n",
        "\n",
        "# Select relevant columns for the adjusted comparison\n",
        "adjusted_comparison_df_miles = data[['tow_dist_miles', 'calculated_dist_miles', 'adjusted_dist_miles',\n",
        "                                      'adjusted_absolute_difference_miles', 'adjusted_percentage_difference_miles']]\n",
        "\n",
        "# Display the adjusted comparison results in miles\n",
        "print(\"Adjusted Comparison Results (Miles):\")\n",
        "print(adjusted_comparison_df_miles)\n"
      ],
      "metadata": {
        "id": "fYMHzzD9h-NO"
      },
      "execution_count": null,
      "outputs": []
    },
    {
      "source": [
        "reaction_factor = 1.4\n",
        "\n",
        "# Use the existing 'calculated_dist_miles' column instead of 'calculated_dist_meters'\n",
        "#data['calculated_dist_miles'] = data['calculated_dist_meters'] / 1609.34 # This line caused the error\n",
        "data['adjusted_dist_miles'] = data['calculated_dist_miles'] * reaction_factor\n",
        "\n",
        "# Convert `tow_dist` from meters to miles for comparison\n",
        "data['tow_dist_miles'] = data['tow_dist'] / 1609.34\n",
        "\n",
        "# Calculate absolute differences in miles\n",
        "data['absolute_difference_miles'] = abs(data['calculated_dist_miles'] - data['tow_dist_miles'])\n",
        "data['adjusted_absolute_difference_miles'] = abs(data['adjusted_dist_miles'] - data['tow_dist_miles'])\n",
        "\n",
        "# Calculate the average absolute difference without and with the reaction factor (in miles)\n",
        "average_difference_without_reaction = data['absolute_difference_miles'].mean()\n",
        "average_difference_with_reaction = data['adjusted_absolute_difference_miles'].mean()\n",
        "\n",
        "# Create a summary\n",
        "average_differences_summary = pd.DataFrame({\n",
        "    'Type': ['Without Reaction Factor', 'With Reaction Factor'],\n",
        "    'Average Absolute Difference (miles)': [\n",
        "        average_difference_without_reaction,\n",
        "        average_difference_with_reaction\n",
        "    ]\n",
        "})\n",
        "\n",
        "# Display the summary\n",
        "print(\"Average Absolute Difference Comparison (in miles):\")\n",
        "print(average_differences_summary)\n",
        "\n",
        "# Optionally, save to a CSV file for review\n",
        "average_differences_summary.to_csv('average_differences_summary_miles.csv', index=False)"
      ],
      "cell_type": "code",
      "metadata": {
        "id": "TjKLuOOO3jT-"
      },
      "execution_count": null,
      "outputs": []
    }
  ]
}