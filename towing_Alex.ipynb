{
  "nbformat": 4,
  "nbformat_minor": 0,
  "metadata": {
    "colab": {
      "private_outputs": true,
      "provenance": []
    },
    "kernelspec": {
      "name": "python3",
      "display_name": "Python 3"
    },
    "language_info": {
      "name": "python"
    }
  },
  "cells": [
    {
      "cell_type": "code",
      "source": [
        "import matplotlib.pyplot as plt\n",
        "import pandas as pd\n",
        "import numpy as np\n",
        "from scipy.spatial import Voronoi, voronoi_plot_2d\n",
        "from sklearn.preprocessing import StandardScaler\n",
        "import folium\n",
        "from folium.plugins import HeatMap\n"
      ],
      "metadata": {
        "id": "GyoZSsXb5JhF"
      },
      "execution_count": null,
      "outputs": []
    },
    {
      "cell_type": "code",
      "source": [
        "df = pd.read_csv('/content/tow_coords.csv')\n",
        "\n",
        "df = df.dropna(subset=['lat', 'lon'])\n",
        "\n",
        "# Extract latitude and longitude\n",
        "points = df[['lat', 'lon']].values\n",
        "\n",
        "# Compute the Voronoi diagram\n",
        "vor = Voronoi(points)\n",
        "\n",
        "# Plot the Voronoi diagram\n",
        "fig = voronoi_plot_2d(vor)\n",
        "plt.title('Voronoi Diagram of Tow Coordinates')\n",
        "plt.xlabel('Longitude')\n",
        "plt.ylabel('Latitude')\n",
        "plt.show()"
      ],
      "metadata": {
        "id": "3Q_B_-AF5icG"
      },
      "execution_count": null,
      "outputs": []
    },
    {
      "cell_type": "code",
      "source": [
        "plt.scatter(df['lat'],df['lon'])"
      ],
      "metadata": {
        "id": "De_YW2kp9DXY"
      },
      "execution_count": null,
      "outputs": []
    },
    {
      "source": [
        "data = pd.read_csv('/content/tow_coords.csv') # I know I know its same..\n",
        "# Define the reference point as the first coordinate\n",
        "lat_ref = data.loc[0, 'lat']\n",
        "lon_ref = data.loc[0, 'lon']\n",
        "\n",
        "# Function to convert lat/lon to xy coordinates relative to the reference point\n",
        "def lat_lon_to_xy(lat, lon, lat_ref, lon_ref):\n",
        "    # Radius of the Earth in meters\n",
        "    R = 6371000\n",
        "\n",
        "    # Convert degrees to radians\n",
        "    lat_rad = np.radians(lat)\n",
        "    lon_rad = np.radians(lon)\n",
        "    lat_ref_rad = np.radians(lat_ref)\n",
        "    lon_ref_rad = np.radians(lon_ref)\n",
        "\n",
        "    # Calculate x and y with positive coordinates (first quadrant)\n",
        "    x = R * (lon_rad - lon_ref_rad) * np.cos(lat_ref_rad)\n",
        "    y = R * (lat_rad - lat_ref_rad)\n",
        "\n",
        "    # Ensure all coordinates are in the first quadrant by adding an offset\n",
        "    x_offset = abs(x.min()) if x.min() < 0 else 0\n",
        "    y_offset = abs(y.min()) if y.min() < 0 else 0\n",
        "\n",
        "    x += x_offset\n",
        "    y += y_offset\n",
        "\n",
        "    return x, y\n",
        "\n",
        "# Apply the function to the dataframe to calculate xy coordinates\n",
        "data['x'], data['y'] = lat_lon_to_xy(data['lat'], data['lon'], lat_ref, lon_ref)\n",
        "\n",
        "# Display the new dataframe with x and y coordinates\n",
        "# Removed the line that uses 'ace_tools'\n",
        "# Instead, just print the DataFrame\n",
        "print(\"XY Coordinates from Latitude and Longitude:\")\n",
        "print(data) # Use print(data) to display the DataFrame directly\n",
        "\n",
        "# Display the first few rows of the updated data to verify\n",
        "data.head()\n",
        "\n",
        "plt.scatter(data['x'], data['y'])\n",
        "plt.xlabel('X')\n",
        "plt.ylabel('Y')\n",
        "plt.title('XY Coordinates')\n",
        "plt.grid(True)\n",
        "plt.show()"
      ],
      "cell_type": "code",
      "metadata": {
        "id": "iqLfkewnNOUF"
      },
      "execution_count": null,
      "outputs": []
    },
    {
      "cell_type": "code",
      "source": [
        "# Calculate the min and max for lat and lon to identify the region with most data points\n",
        "lat_min, lat_max = data['lat'].quantile(0.009), data['lat'].quantile(0.99)\n",
        "lon_min, lon_max = data['lon'].quantile(0.009), data['lon'].quantile(0.99)\n",
        "\n",
        "# Create a filtered dataset that falls within the desired range\n",
        "filtered_data = data[(data['lat'] >= lat_min) & (data['lat'] <= lat_max) &\n",
        "                     (data['lon'] >= lon_min) & (data['lon'] <= lon_max)]\n",
        "\n",
        "# Plot the filtered latitude and longitude data as a scatter plot\n",
        "plt.figure(figsize=(10, 6))\n",
        "plt.scatter(filtered_data['lon'], filtered_data['lat'],marker='x', color='green', label='Filtered Coordinates')\n",
        "\n",
        "# Label axes\n",
        "plt.xlabel('Longitude')\n",
        "plt.ylabel('Latitude')\n",
        "plt.title('Scatter Plot of Latitude and Longitude (Filtered Region)')\n",
        "\n",
        "# Add a legend\n",
        "plt.legend()\n",
        "\n",
        "# Display the plot with restricted domain\n",
        "plt.grid(True)\n",
        "plt.show()\n"
      ],
      "metadata": {
        "id": "Vlsb9kJ_PlTy"
      },
      "execution_count": null,
      "outputs": []
    },
    {
      "cell_type": "code",
      "source": [
        "# Manually filter the data to include only those points where latitude is less than 40 and longitude is greater than -77.1\n",
        "filtered_data_manual = data[(data['lat'] < 40) & (data['lon'] > -77.1)]\n",
        "#39.05, -77.10\n",
        "# Plot the manually filtered latitude and longitude data as a scatter plot\n",
        "plt.figure(figsize=(10, 6))\n",
        "plt.scatter(filtered_data_manual['lon'], filtered_data_manual['lat'], color='purple', label='Filtered Coordinates (y < 40 and x > -77.1)')\n",
        "\n",
        "# Label axes\n",
        "plt.xlabel('Longitude')\n",
        "plt.ylabel('Latitude')\n",
        "plt.title('Scatter Plot of Latitude and Longitude (Restricted y < 39.05 and x > -77.1)')\n",
        "\n",
        "# Add a legend\n",
        "plt.legend()\n",
        "\n",
        "# Display the plot with the manually restricted domain\n",
        "plt.grid(True)\n",
        "plt.show()\n"
      ],
      "metadata": {
        "id": "P0q75Ss5RBKq"
      },
      "execution_count": null,
      "outputs": []
    },
    {
      "cell_type": "code",
      "source": [
        "# Manually filter the data to include only those points where latitude is between 38.9 and 40, and longitude is greater than -77.1\n",
        "filtered_data_manual = data[(data['lat'] > 38.9) & (data['lat'] < 40) & (data['lon'] > -77.1)]\n",
        "\n",
        "# Plot the manually filtered latitude and longitude data as a scatter plot\n",
        "plt.figure(figsize=(10, 6))\n",
        "plt.scatter(filtered_data_manual['lon'], filtered_data_manual['lat'], color='orange', label='Filtered Coordinates (38.9 < y < 40 and x > -77.1)')\n",
        "\n",
        "# Label axes\n",
        "plt.xlabel('Longitude')\n",
        "plt.ylabel('Latitude')\n",
        "plt.title('Scatter Plot of Latitude and Longitude (Restricted 38.9 < y < 40 and x > -77.1)')\n",
        "\n",
        "# Add a legend\n",
        "plt.legend()\n",
        "\n",
        "# Display the plot with the manually restricted domain\n",
        "plt.grid(True)\n",
        "plt.show()\n"
      ],
      "metadata": {
        "id": "QevH-sYFRRe3"
      },
      "execution_count": null,
      "outputs": []
    },
    {
      "cell_type": "code",
      "source": [
        "data = pd.read_csv('/content/tow_coords.csv')\n",
        "\n",
        "points_filtered = filtered_data[['lon', 'lat']].values\n",
        "\n",
        "# Create a Voronoi diagram from the filtered points\n",
        "vor_filtered = Voronoi(points_filtered)\n",
        "\n",
        "# Plot the Voronoi diagram with a higher quality setting\n",
        "plt.figure(figsize=(40, 30), dpi=500)  # Increase the figure size and resolution (DPI)\n",
        "voronoi_plot_2d(vor_filtered, show_vertices=False, line_colors='blue', line_width=1.5, line_alpha=0.7, point_size=15)\n",
        "\n",
        "# Overlay the filtered points to make it clear which points generate each Voronoi cell\n",
        "plt.scatter(filtered_data['lon'], filtered_data['lat'], marker='x', color='green', s=5)\n",
        "\n",
        "# Label axes\n",
        "plt.xlabel('Longitude', fontsize=6)\n",
        "plt.ylabel('Latitude', fontsize=6)\n",
        "plt.title('Voronoi Diagram of Filtered Latitude and Longitude', fontsize=18)\n",
        "plt.legend(fontsize=14)\n",
        "plt.grid(True, linestyle='--', linewidth=0.5)\n",
        "plt.show()\n"
      ],
      "metadata": {
        "id": "X9RhIGDcVWwT"
      },
      "execution_count": null,
      "outputs": []
    },
    {
      "source": [
        "\n",
        "\n",
        "\n",
        "# Assuming your data is in 'tow_coords.csv', adjust if needed\n",
        "tow_coords_cleaned_df = pd.read_csv('/content/tow_coords.csv') # Load your data into tow_coords_cleaned_df\n",
        "\n",
        "\n",
        "tow_coords_cleaned_df = tow_coords_cleaned_df.dropna(subset=['lat', 'lon'])\n",
        "\n",
        "# Create a base map centered around the approximate center of Montgomery County, Maryland\n",
        "map_center = [39.05, -77.10]  # Approximate center of Montgomery County\n",
        "m = folium.Map(location=map_center, zoom_start=11)\n",
        "\n",
        "# Extract coordinates to a list of [lat, lon] pairs for the heatmap\n",
        "heat_data = tow_coords_cleaned_df[['lat', 'lon']].values.tolist()\n",
        "\n",
        "# Add a HeatMap layer to the map\n",
        "HeatMap(heat_data).add_to(m)\n",
        "\n",
        "# Save the map to an HTML file to view\n",
        "map_path = \"tow_heatmap.html\"\n",
        "m.save(map_path)\n",
        "\n",
        "# Display path for downloading\n",
        "map_path"
      ],
      "cell_type": "code",
      "metadata": {
        "id": "83gXT8Ud9igM"
      },
      "execution_count": null,
      "outputs": []
    },
    {
      "cell_type": "code",
      "source": [
        "\n",
        "\n",
        "\n",
        "# Load your median income dataset\n",
        "income_df = pd.read_csv('/content/tow_coords_income.csv')\n",
        "\n",
        "# Drop rows with missing latitude, longitude, or median income values\n",
        "income_df = income_df.dropna(subset=['lat', 'lon', 'median_household_income'])\n",
        "\n",
        "# Create a base map centered around the approximate center of Montgomery County, Maryland\n",
        "map_center = [39.05, -77.10]  # Approximate center of Montgomery County\n",
        "m_income = folium.Map(location=map_center, zoom_start=11)\n",
        "\n",
        "# Extract coordinates and income as weighted data for the heatmap\n",
        "# The HeatMap will be weighted by the median income to show intensity related to income levels\n",
        "heat_data_income = income_df[['lat', 'lon', 'median_household_income']].values.tolist()\n",
        "\n",
        "# Add a HeatMap layer to the map, using the median income as weight\n",
        "HeatMap(heat_data_income, radius=10).add_to(m_income)\n",
        "\n",
        "# Save the map to an HTML file to view\n",
        "map_income_path = \"income_heatmap.html\"\n",
        "m_income.save(map_income_path)\n",
        "\n",
        "# Display path for downloading\n",
        "print(\"Map saved at:\", map_income_path)\n"
      ],
      "metadata": {
        "id": "c2Bo5Cpm3WJt"
      },
      "execution_count": null,
      "outputs": []
    },
    {
      "cell_type": "code",
      "source": [
        "# Create a base map centered around Montgomery County, Maryland\n",
        "m_combined = folium.Map(location=map_center, zoom_start=11)\n",
        "\n",
        "# Add towing heatmap layer\n",
        "towing_heat_layer = folium.FeatureGroup(name='Towing Hotspots')\n",
        "HeatMap(heat_data).add_to(towing_heat_layer)\n",
        "towing_heat_layer.add_to(m_combined)\n",
        "\n",
        "# Add income heatmap layer\n",
        "income_heat_layer = folium.FeatureGroup(name='Income Levels')\n",
        "HeatMap(heat_data_income, radius=10).add_to(income_heat_layer)\n",
        "income_heat_layer.add_to(m_combined)\n",
        "\n",
        "# Add LayerControl to switch between layers\n",
        "folium.LayerControl().add_to(m_combined)\n",
        "\n",
        "# Save the map to an HTML file to view\n",
        "m_combined.save(\"combined_towing_income_map.html\")\n"
      ],
      "metadata": {
        "id": "XgoSUP8a5BbG"
      },
      "execution_count": null,
      "outputs": []
    }
  ]
}